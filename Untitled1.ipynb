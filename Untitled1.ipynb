{
 "cells": [
  {
   "cell_type": "markdown",
   "id": "hourly-literacy",
   "metadata": {},
   "source": [
    "# Numpy"
   ]
  },
  {
   "cell_type": "markdown",
   "id": "superior-oasis",
   "metadata": {},
   "source": [
    "## Getting started\n",
    "\n",
    "* Numpy is a huge package\n",
    "* Most packages for data science build on numpy\n",
    "* Documentation and further tutorials: https://numpy.org/doc/stable/\n",
    "\n",
    "### Importing numpy\n",
    "\n",
    "By convention:"
   ]
  },
  {
   "cell_type": "code",
   "execution_count": null,
   "id": "ignored-costume",
   "metadata": {},
   "outputs": [],
   "source": [
    "import numpy as np"
   ]
  },
  {
   "cell_type": "markdown",
   "id": "aggressive-panic",
   "metadata": {},
   "source": [
    "### Numpy arrays\n",
    "\n",
    "Arrays are the basic elements of numpy.\n",
    "\n",
    "An array is a multidimensional collection of data of the same type.\n",
    "\n",
    "Arrays in numply are called ndarrays - for n dimensional array\n",
    "\n",
    "**Creating arrays**\n",
    "\n",
    "Basic syntax: *numpy.array(object, dtype=None)*\n",
    "\n",
    "lets create an array of the integers 1 to 3"
   ]
  },
  {
   "cell_type": "code",
   "execution_count": null,
   "id": "understood-compatibility",
   "metadata": {},
   "outputs": [],
   "source": [
    "np.array([1,2,3])"
   ]
  },
  {
   "cell_type": "code",
   "execution_count": null,
   "id": "pretty-elephant",
   "metadata": {},
   "outputs": [],
   "source": [
    "Alternatively as floating point numbers"
   ]
  },
  {
   "cell_type": "code",
   "execution_count": null,
   "id": "through-collect",
   "metadata": {},
   "outputs": [],
   "source": [
    "np.array([1,2,3], dtype=float)"
   ]
  },
  {
   "cell_type": "code",
   "execution_count": null,
   "id": "varied-myanmar",
   "metadata": {},
   "outputs": [],
   "source": [
    "Create a 2 rows by 2 columns array of zeros\n",
    "Create a 3 rows by 4 columns array of ones"
   ]
  },
  {
   "cell_type": "code",
   "execution_count": null,
   "id": "gorgeous-primary",
   "metadata": {},
   "outputs": [],
   "source": [
    "np.zeros([2,2])"
   ]
  },
  {
   "cell_type": "code",
   "execution_count": null,
   "id": "challenging-armstrong",
   "metadata": {},
   "outputs": [],
   "source": [
    "np.ones((3,4))"
   ]
  },
  {
   "cell_type": "code",
   "execution_count": null,
   "id": "fifteen-abortion",
   "metadata": {},
   "outputs": [],
   "source": [
    "Create a 2 by 2 array of fours\n",
    "* Create a 2 by 2 array\n",
    "* Fill the array with the value 4"
   ]
  },
  {
   "cell_type": "code",
   "execution_count": null,
   "id": "dominican-gentleman",
   "metadata": {},
   "outputs": [],
   "source": [
    "arr = np.empty((2, 2))\n",
    "arr"
   ]
  },
  {
   "cell_type": "code",
   "execution_count": null,
   "id": "twenty-luxury",
   "metadata": {},
   "outputs": [],
   "source": [
    "arr.fill(4)\n",
    "arr"
   ]
  },
  {
   "cell_type": "code",
   "execution_count": null,
   "id": "worthy-cooling",
   "metadata": {},
   "outputs": [],
   "source": [
    "**Properties of arrays**\n",
    "\n",
    "All arrays have a shape and a datatype.\n",
    "\n",
    "These can be found using *ndarray.shape* *ndarray.dtype*"
   ]
  },
  {
   "cell_type": "code",
   "execution_count": null,
   "id": "overhead-process",
   "metadata": {},
   "outputs": [],
   "source": [
    "arr.shape"
   ]
  },
  {
   "cell_type": "code",
   "execution_count": null,
   "id": "unlimited-psychiatry",
   "metadata": {},
   "outputs": [],
   "source": [
    "arr.dtype"
   ]
  },
  {
   "cell_type": "code",
   "execution_count": null,
   "id": "minus-dining",
   "metadata": {},
   "outputs": [],
   "source": [
    "## Reading in data\n",
    "\n",
    "You have been provided with a csv file theoph.csv. "
   ]
  },
  {
   "cell_type": "code",
   "execution_count": null,
   "id": "quick-priest",
   "metadata": {},
   "outputs": [],
   "source": [
    "theoph_file_location = '/home/chrissy/Documents/theoph.csv'\n",
    "theoph_data = np.genfromtxt(theoph_file_location, delimiter=',')"
   ]
  },
  {
   "cell_type": "code",
   "execution_count": 1,
   "id": "conscious-questionnaire",
   "metadata": {},
   "outputs": [
    {
     "ename": "SyntaxError",
     "evalue": "invalid syntax (<ipython-input-1-60906b68a350>, line 1)",
     "output_type": "error",
     "traceback": [
      "\u001b[0;36m  File \u001b[0;32m\"<ipython-input-1-60906b68a350>\"\u001b[0;36m, line \u001b[0;32m1\u001b[0m\n\u001b[0;31m    **About theoph.csv**\u001b[0m\n\u001b[0m     ^\u001b[0m\n\u001b[0;31mSyntaxError\u001b[0m\u001b[0;31m:\u001b[0m invalid syntax\n"
     ]
    }
   ],
   "source": [
    "**About theoph.csv**\n",
    "\n",
    "This contains data originally from a study by Dr. Robert Upton of the kinetics of the anti-asthmatic drug theophylline as detailed in reference [1]. \n",
    "The data has been extracted from the base datasets in R.\n",
    "\n",
    "Subjects were given oral doses of theophylline then serum concentrations were measured at 11 time points over the next 25 hours.\n",
    "\n",
    "The columns of the data are: \n",
    "\n",
    "* Subject, a reference number identifying each subject (1 to 12)\n",
    "* Wt, weight of the subject in kg\n",
    "* Dose, dose of theophylline given to the subject in mg/kg\n",
    "* Time, time since the drug was administered when the sample was drawn in hours\n",
    "* conc, theophylline concentration in mg/L\n",
    "\n",
    "[1] *Boeckmann, A. J., Sheiner, L. B. and Beal, S. L. (1994), NONMEM Users Guide: Part V, NONMEM Project Group, University of California, San Francisco.*"
   ]
  },
  {
   "cell_type": "code",
   "execution_count": null,
   "id": "persistent-tiffany",
   "metadata": {},
   "outputs": [],
   "source": []
  },
  {
   "cell_type": "code",
   "execution_count": null,
   "id": "hindu-sunset",
   "metadata": {},
   "outputs": [],
   "source": []
  },
  {
   "cell_type": "code",
   "execution_count": null,
   "id": "activated-tribute",
   "metadata": {},
   "outputs": [],
   "source": []
  }
 ],
 "metadata": {
  "kernelspec": {
   "display_name": "Python 3",
   "language": "python",
   "name": "python3"
  },
  "language_info": {
   "codemirror_mode": {
    "name": "ipython",
    "version": 3
   },
   "file_extension": ".py",
   "mimetype": "text/x-python",
   "name": "python",
   "nbconvert_exporter": "python",
   "pygments_lexer": "ipython3",
   "version": "3.6.9"
  }
 },
 "nbformat": 4,
 "nbformat_minor": 5
}
