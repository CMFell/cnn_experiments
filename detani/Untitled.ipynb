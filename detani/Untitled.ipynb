{
 "cells": [
  {
   "cell_type": "code",
   "execution_count": null,
   "id": "finnish-thompson",
   "metadata": {},
   "outputs": [],
   "source": [
    "from pathlib import Path\n",
    "\n",
    "import numpy as np\n",
    "import pandas as pd\n"
   ]
  },
  {
   "cell_type": "code",
   "execution_count": null,
   "id": "fallen-technician",
   "metadata": {},
   "outputs": [],
   "source": [
    "#test_tif = project_root() / \"data\" / \"camelyon16\" / \"raw\" / \"training\" / \"normal\" / \"normal_001.tif\"\n",
    "#test_index_loc = experiment_root / \"train_index16\" / \"normal\" / \"normal_001.csv\"\n",
    "test_tif = \"normal_001.tif\"\n",
    "test_index_loc = \"normal_001.csv\""
   ]
  },
  {
   "cell_type": "code",
   "execution_count": null,
   "id": "jewish-furniture",
   "metadata": {},
   "outputs": [],
   "source": [
    "test_index = pd.read_csv(test_index_loc)\n",
    "test_index"
   ]
  },
  {
   "cell_type": "code",
   "execution_count": null,
   "id": "objective-little",
   "metadata": {},
   "outputs": [],
   "source": [
    "#!/usr/bin/python3\n",
    "  \n",
    "import sys\n",
    "import pyvips\n",
    "\n",
    "def fetch(region, patch_size, x, y):\n",
    "    return region.fetch(patch_size * x, patch_size * y, patch_size, patch_size)\n",
    "\n",
    "image = pyvips.Image.new_from_file(str(test_tif))\n",
    "\n",
    "reg = pyvips.Region.new(image)\n",
    "\n",
    "patch_size = 256\n",
    "\n",
    "n_patches = 0\n",
    "#for nn in range(test_index.shape[0]):\n",
    "for nn in range(100):\n",
    "    row = test_index.iloc[nn, :]\n",
    "    x = row.x\n",
    "    y = row.y\n",
    "    patch0 = fetch(reg, patch_size, x, y)\n",
    "    n_patches += 1\n",
    "\n",
    "print(\"{} patches generated\".format(n_patches))"
   ]
  }
 ],
 "metadata": {
  "kernelspec": {
   "display_name": "Python 3",
   "language": "python",
   "name": "python3"
  },
  "language_info": {
   "codemirror_mode": {
    "name": "ipython",
    "version": 3
   },
   "file_extension": ".py",
   "mimetype": "text/x-python",
   "name": "python",
   "nbconvert_exporter": "python",
   "pygments_lexer": "ipython3",
   "version": "3.6.9"
  }
 },
 "nbformat": 4,
 "nbformat_minor": 5
}
