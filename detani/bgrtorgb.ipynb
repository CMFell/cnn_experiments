{
 "cells": [
  {
   "cell_type": "code",
   "execution_count": null,
   "id": "previous-sellers",
   "metadata": {},
   "outputs": [],
   "source": [
    "import cv2\n",
    "import os\n",
    "\n",
    "import numpy as np\n",
    "\n",
    "outdir = \"/home/cmf21/pytorch_save/output_for_draft/\""
   ]
  },
  {
   "cell_type": "code",
   "execution_count": null,
   "id": "following-insert",
   "metadata": {},
   "outputs": [],
   "source": [
    "files = os.listdir(outdir)\n",
    "\n",
    "jpgmask = [fl[-4:] == '.jpg' for fl in files]\n",
    "\n",
    "jpgs = np.array(files)[jpgmask]\n",
    "\n",
    "jpgs"
   ]
  },
  {
   "cell_type": "code",
   "execution_count": null,
   "id": "supposed-lunch",
   "metadata": {},
   "outputs": [],
   "source": [
    "for jj in jpgs:\n",
    "    img_in = cv2.imread(outdir + jj)\n",
    "    img_in = cv2.cvtColor(img_in, cv2.COLOR_BGR2RGB)\n",
    "    cv2.imwrite(outdir + jj, img_in)"
   ]
  }
 ],
 "metadata": {
  "kernelspec": {
   "display_name": "Python 3",
   "language": "python",
   "name": "python3"
  },
  "language_info": {
   "codemirror_mode": {
    "name": "ipython",
    "version": 3
   },
   "file_extension": ".py",
   "mimetype": "text/x-python",
   "name": "python",
   "nbconvert_exporter": "python",
   "pygments_lexer": "ipython3",
   "version": "3.6.9"
  }
 },
 "nbformat": 4,
 "nbformat_minor": 5
}
