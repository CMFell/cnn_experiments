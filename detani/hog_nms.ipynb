{
 "cells": [
  {
   "cell_type": "code",
   "execution_count": null,
   "id": "increased-joyce",
   "metadata": {},
   "outputs": [],
   "source": [
    "from pathlib import Path\n",
    "\n",
    "import cv2\n",
    "import numpy as np\n",
    "import pandas as pd\n",
    "\n",
    "from window.postprocess.match_truths import match_yolo_to_truths\n",
    "from window.utils.drawing import draw_results_on_image\n",
    "from window.utils.tiling import split_locations_array\n",
    "from window.utils.truths import windows_truth"
   ]
  },
  {
   "cell_type": "code",
   "execution_count": null,
   "id": "domestic-indicator",
   "metadata": {},
   "outputs": [],
   "source": [
    "file_loc = '/home/cmf21/out_dets.csv'\n",
    "boxes_in = pd.read_csv(file_loc)\n",
    "boxes_in"
   ]
  },
  {
   "cell_type": "code",
   "execution_count": null,
   "id": "illegal-yeast",
   "metadata": {},
   "outputs": [],
   "source": [
    "file_locs = boxes_in.file_loc.to_list()\n",
    "\n",
    "def split_filename(str_in):\n",
    "    file_nm = str_in[:-4]\n",
    "    file_splt = file_nm.split('_')\n",
    "    file_out = file_splt[0] + '_' + file_splt[1] + '.jpg'\n",
    "    tile_out = file_splt[2]\n",
    "    return file_out, tile_out\n",
    "\n",
    "filenames = [split_filename(fl)[0] for fl in file_locs]\n",
    "tiles = [split_filename(fl)[1] for fl in file_locs]\n"
   ]
  },
  {
   "cell_type": "code",
   "execution_count": null,
   "id": "timely-accreditation",
   "metadata": {},
   "outputs": [],
   "source": [
    "boxes_in['image_names'] = filenames\n",
    "boxes_in['tiles'] = tiles"
   ]
  },
  {
   "cell_type": "code",
   "execution_count": null,
   "id": "breeding-platinum",
   "metadata": {},
   "outputs": [],
   "source": [
    "boxes_fil = boxes_in[boxes_in.prob > 0.5]\n",
    "boxes_fil.shape"
   ]
  },
  {
   "cell_type": "code",
   "execution_count": null,
   "id": "formed-visiting",
   "metadata": {},
   "outputs": [],
   "source": [
    "def windows_to_whole_im(df_in):\n",
    "    tile_w = 1856\n",
    "    tile_h = 1256\n",
    "    img_w = 7360\n",
    "    img_h = 4912\n",
    "    tile_vals = split_locations_array()\n",
    "    xmin = df_in.xmin.tolist()\n",
    "    xmax = df_in.xmax.tolist()\n",
    "    ymin = df_in.ymin.tolist()\n",
    "    ymax = df_in.ymax.tolist()\n",
    "    tileord = df_in.tiles.astype(int).tolist()\n",
    "    tilerowst = tile_vals[tileord, 0]\n",
    "    tilecolst = tile_vals[tileord, 1]\n",
    "    xmin = np.add(xmin, tilecolst)\n",
    "    xmax = np.add(xmax, tilecolst)\n",
    "    ymin = np.add(ymin, tilerowst)\n",
    "    ymax = np.add(ymax, tilerowst)\n",
    "    df_in.loc[:, 'xmn'] = np.array(xmin, dtype=np.int)\n",
    "    df_in.loc[:, 'xmx'] = np.array(xmax, dtype=np.int)\n",
    "    df_in.loc[:, 'ymn'] = np.array(ymin, dtype=np.int)\n",
    "    df_in.loc[:, 'ymx'] = np.array(ymax, dtype=np.int)\n",
    "    return df_in\n",
    "\n",
    "\n",
    "windows_whl_im = windows_to_whole_im(boxes_fil)\n",
    "windows_whl_im['conf'] = windows_whl_im['prob']\n"
   ]
  },
  {
   "cell_type": "code",
   "execution_count": null,
   "id": "loaded-seventh",
   "metadata": {},
   "outputs": [],
   "source": [
    "truth_file = \"/data/old_home_dir/ChrissyF/GFRC/yolo_valid_GFRC_bboxes.csv\"\n",
    "# Process truth files\n",
    "truths = pd.read_csv(truth_file)\n",
    "truths.loc[:, 'filename'] = [strin.replace('/', '_') for strin in truths.file_loc]\n",
    "\n",
    "truths"
   ]
  },
  {
   "cell_type": "code",
   "execution_count": null,
   "id": "recreational-sleeping",
   "metadata": {},
   "outputs": [],
   "source": [
    "valid_whole_image_dir = \"/data/old_home_dir/ChrissyF/GFRC/Valid/whole_images_all/\"\n",
    "# get all image files\n",
    "image_files = list(Path(valid_whole_image_dir).glob(\"*.jpg\"))\n",
    "image_files = [img.name for img in image_files]\n",
    "\n",
    "# create empty list to store results\n",
    "results_all_ims = pd.DataFrame(columns=['xmn', 'xmx', 'ymn', 'ymx', 'conf', 'confmat', 'tru_box', 'filename'])\n",
    "\n",
    "#fl = image_files[0]"
   ]
  },
  {
   "cell_type": "code",
   "execution_count": null,
   "id": "medical-drunk",
   "metadata": {},
   "outputs": [],
   "source": [
    "for fl in image_files:\n",
    "\n",
    "    truths_im = truths[truths.filename == fl]\n",
    "    truths_im_pixels = windows_truth(truths_im)\n",
    "\n",
    "    # Per image\n",
    "    print(fl)\n",
    "    whole_im = cv2.imread(valid_whole_image_dir + fl)\n",
    "    whole_im = cv2.cvtColor(whole_im, cv2.COLOR_BGR2RGB)\n",
    "\n",
    "    windows_fil = windows_whl_im[windows_whl_im.image_names == fl]\n",
    "\n",
    "    # calculate results\n",
    "    iou_threshold = 0.15\n",
    "    nms_threshold = 0.1\n",
    "    results_per_im = match_yolo_to_truths(windows_fil, truths_im_pixels, iou_threshold, 0.1)\n",
    "    results_per_im['filename'] = fl\n",
    "\n",
    "    results_all_ims = pd.concat((results_all_ims, results_per_im), axis=0, sort=False)\n",
    "\n",
    "    # draw results on image\n",
    "    #image_out = draw_results_on_image(whole_im, results_per_im)"
   ]
  },
  {
   "cell_type": "code",
   "execution_count": null,
   "id": "civilian-principal",
   "metadata": {},
   "outputs": [],
   "source": [
    "tru_ims = np.unique(truths.filename).tolist()\n",
    "ims_cv = np.unique(windows_whl_im.image_names).tolist()\n",
    "\n",
    "match_tru = []\n",
    "for tru in tru_ims:\n",
    "    match_tru.append(tru in ims_cv)\n"
   ]
  },
  {
   "cell_type": "code",
   "execution_count": null,
   "id": "virtual-butler",
   "metadata": {},
   "outputs": [],
   "source": [
    "ims_cv_arr = np.array(ims_cv)\n",
    "np.argmax(ims_cv_arr == tru_ims[0])"
   ]
  },
  {
   "cell_type": "code",
   "execution_count": null,
   "id": "welsh-simulation",
   "metadata": {},
   "outputs": [],
   "source": [
    "print(f'TP: {np.sum(results_all_ims.confmat==\"TP\")}, FP: {np.sum(results_all_ims.confmat==\"FP\")}, FN: {np.sum(results_all_ims.confmat==\"FN\")}')\n",
    "print(\"number of images:\", len(image_files))"
   ]
  },
  {
   "cell_type": "code",
   "execution_count": null,
   "id": "operational-hopkins",
   "metadata": {},
   "outputs": [],
   "source": [
    "im1 = 'Z247_Img14318.jpg'\n",
    "im2 = 'Z124_Img13083.jpg'\n",
    "im3 = 'Z138_Img02887.jpg'\n",
    "\n",
    "np.sum(image_files == im3)\n"
   ]
  },
  {
   "cell_type": "code",
   "execution_count": null,
   "id": "running-comparative",
   "metadata": {},
   "outputs": [],
   "source": [
    "fl = image_files[7]\n",
    "\n",
    "truths_im = truths[truths.filename == fl]\n",
    "truths_im_pixels = windows_truth(truths_im)\n",
    "\n",
    "# Per image\n",
    "print(fl)\n",
    "whole_im = cv2.imread(valid_whole_image_dir + fl)\n",
    "whole_im = cv2.cvtColor(whole_im, cv2.COLOR_BGR2RGB)\n",
    "\n",
    "windows_fil = windows_whl_im[windows_whl_im.image_names == fl]\n",
    "\n",
    "# calculate results\n",
    "iou_threshold = 0.15\n",
    "nms_threshold = 0.1\n",
    "results_per_im = match_yolo_to_truths(windows_fil, truths_im_pixels, iou_threshold, 0.1)\n",
    "results_per_im['filename'] = fl\n",
    "\n",
    "results_all_ims = pd.concat((results_all_ims, results_per_im), axis=0, sort=False)\n",
    "\n",
    "# draw results on image\n",
    "image_out = draw_results_on_image(whole_im, results_per_im)\n",
    "image_out = cv2.cvtColor(image_out, cv2.COLOR_BGR2RGB)\n",
    "cv2.imwrite('hog_ex_', image_out)"
   ]
  },
  {
   "cell_type": "code",
   "execution_count": null,
   "id": "incident-abuse",
   "metadata": {},
   "outputs": [],
   "source": [
    "truths_im"
   ]
  },
  {
   "cell_type": "code",
   "execution_count": null,
   "id": "committed-pierre",
   "metadata": {},
   "outputs": [],
   "source": [
    "from PIL import Image\n",
    "\n",
    "Image.fromarray(image_out)"
   ]
  }
 ],
 "metadata": {
  "kernelspec": {
   "display_name": "Python 3",
   "language": "python",
   "name": "python3"
  },
  "language_info": {
   "codemirror_mode": {
    "name": "ipython",
    "version": 3
   },
   "file_extension": ".py",
   "mimetype": "text/x-python",
   "name": "python",
   "nbconvert_exporter": "python",
   "pygments_lexer": "ipython3",
   "version": "3.6.9"
  }
 },
 "nbformat": 4,
 "nbformat_minor": 5
}
