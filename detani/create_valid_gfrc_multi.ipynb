{
 "cells": [
  {
   "cell_type": "code",
   "execution_count": null,
   "id": "regional-check",
   "metadata": {},
   "outputs": [],
   "source": [
    "import numpy as np \n",
    "import pandas as pd"
   ]
  },
  {
   "cell_type": "code",
   "execution_count": null,
   "id": "acknowledged-creek",
   "metadata": {},
   "outputs": [],
   "source": [
    "raw_path = '/data/old_home_dir/ChrissyF/GFRC_old/00GFRC_bboxes.csv'\n",
    "\n",
    "raw_df = pd.read_csv(raw_path)\n",
    "\n",
    "raw_df"
   ]
  },
  {
   "cell_type": "code",
   "execution_count": null,
   "id": "acting-supplement",
   "metadata": {},
   "outputs": [],
   "source": [
    "import os\n",
    "\n",
    "valid_whole_image_dir = \"/data/old_home_dir/ChrissyF/GFRC/Valid/whole_images_all/\"\n",
    "\n",
    "valid_imgs = os.listdir(valid_whole_image_dir)\n",
    "\n",
    "file_locs = raw_df.file_loc.tolist()\n",
    "\n",
    "file_mask = [floc in valid_imgs for floc in file_locs]\n",
    "\n",
    "valid_df = raw_df[file_mask]"
   ]
  },
  {
   "cell_type": "code",
   "execution_count": null,
   "id": "ahead-requirement",
   "metadata": {},
   "outputs": [],
   "source": [
    "valid_df.to_csv('/data/old_home_dir/ChrissyF/GFRC/Valid/00GFRC_bboxes_multi_valid.csv', index=False)"
   ]
  },
  {
   "cell_type": "code",
   "execution_count": null,
   "id": "republican-reduction",
   "metadata": {},
   "outputs": [],
   "source": [
    "print(np.sum(raw_df.class_ == 0))\n",
    "print(np.sum(raw_df.class_ == 1))\n",
    "print(np.sum(raw_df.class_ == 2))\n",
    "print(np.sum(raw_df.class_ == 3))\n",
    "print(np.sum(raw_df.class_ == 4))\n",
    "print(np.sum(raw_df.class_ == 5))"
   ]
  }
 ],
 "metadata": {
  "kernelspec": {
   "display_name": "Python 3",
   "language": "python",
   "name": "python3"
  },
  "language_info": {
   "codemirror_mode": {
    "name": "ipython",
    "version": 3
   },
   "file_extension": ".py",
   "mimetype": "text/x-python",
   "name": "python",
   "nbconvert_exporter": "python",
   "pygments_lexer": "ipython3",
   "version": "3.6.9"
  }
 },
 "nbformat": 4,
 "nbformat_minor": 5
}
