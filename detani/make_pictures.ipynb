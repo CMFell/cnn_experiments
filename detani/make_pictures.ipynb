{
 "cells": [
  {
   "cell_type": "code",
   "execution_count": null,
   "id": "lesbian-phrase",
   "metadata": {},
   "outputs": [],
   "source": [
    "from pathlib import Path\n",
    "\n",
    "import numpy as np\n",
    "import pandas as pd\n",
    "\n",
    "from window.postprocess.match_truths import match_yolo_to_truths\n",
    "from window.utils.truths import windows_truth"
   ]
  },
  {
   "cell_type": "code",
   "execution_count": null,
   "id": "valid-chicago",
   "metadata": {},
   "outputs": [],
   "source": [
    "experiment = 'bin'\n",
    "\n",
    "filename_inria_metrics = 'inria_' + experiment + '_25_05_metrics.csv'\n",
    "filename_gfrc_metrics = 'gfrc_' + experiment + '_25_05_metrics.csv'\n",
    "filename_vedai_metrics = 'vedai_' + experiment + '_25_05_metrics.csv'\n",
    "\n",
    "filename_inria_detections = 'inria_' + experiment + '_25_05_detections.csv'\n",
    "filename_gfrc_detections = 'gfrc_' + experiment + '_25_05_detections.csv'\n",
    "filename_vedai_detections = 'vedai_' + experiment + '_25_05_detections.csv'\n",
    "\n",
    "filename_inria_windows = 'inria_' + experiment + '_25_05_windows.csv'\n",
    "filename_gfrc_windows = 'gfrc_' + experiment + '_25_05_windows.csv'\n",
    "filename_vedai_windows = 'vedai_' + experiment + '_25_05_windows.csv'"
   ]
  },
  {
   "cell_type": "code",
   "execution_count": null,
   "id": "confirmed-being",
   "metadata": {},
   "outputs": [],
   "source": [
    "truth_file_inria = \"/data/old_home_dir/ChrissyF/INRIA/00INRIA_bboxes_valid_yolo.csv\"\n",
    "truth_file_gfrc = \"/data/old_home_dir/ChrissyF/GFRC/yolo_valid_GFRC_bboxes.csv\"\n",
    "truth_file_vedai = \"/data/old_home_dir/ChrissyF/VEDAI/Valid/00VEDAI_test_bboxes.csv\""
   ]
  },
  {
   "cell_type": "code",
   "execution_count": null,
   "id": "paperback-three",
   "metadata": {},
   "outputs": [],
   "source": [
    "valid_whole_image_dir_inria = \"/data/old_home_dir/ChrissyF/INRIA/Valid/whole_images/\"\n",
    "valid_whole_image_dir_gfrc = \"/data/old_home_dir/ChrissyF/GFRC/Valid/whole_images_all/\"\n",
    "valid_whole_image_dir_vedai = \"/data/old_home_dir/ChrissyF/VEDAI/Valid/whole_images/\""
   ]
  },
  {
   "cell_type": "code",
   "execution_count": null,
   "id": "close-dragon",
   "metadata": {},
   "outputs": [],
   "source": [
    "file_dir = \"/home/cmf21/pytorch_save/output_for_draft/\"\n",
    "\n",
    "inria_metrics = pd.read_csv(file_dir + filename_inria_metrics)\n",
    "gfrc_metrics = pd.read_csv(file_dir + filename_gfrc_metrics)\n",
    "vedai_metrics = pd.read_csv(file_dir + filename_vedai_metrics)\n",
    "inria_detections = pd.read_csv(file_dir + filename_inria_detections)\n",
    "gfrc_detections = pd.read_csv(file_dir + filename_gfrc_detections)\n",
    "vedai_detections = pd.read_csv(file_dir + filename_vedai_detections)\n",
    "inria_windows = pd.read_csv(file_dir + filename_inria_windows)\n",
    "vedai_windows = pd.read_csv(file_dir + filename_vedai_windows)\n",
    "gfrc_windows = pd.read_csv(file_dir + filename_gfrc_windows)\n",
    "vedai_metrics[vedai_metrics.RE > 0.7]"
   ]
  },
  {
   "cell_type": "code",
   "execution_count": null,
   "id": "bronze-binding",
   "metadata": {},
   "outputs": [],
   "source": [
    "gfrc_conf_threshold = 0.25\n",
    "vedai_conf_threshold = 0.40\n",
    "inria_conf_threshold = 0.08"
   ]
  },
  {
   "cell_type": "code",
   "execution_count": null,
   "id": "dying-means",
   "metadata": {},
   "outputs": [],
   "source": [
    "def process_truths(truths, dataset):\n",
    "    if dataset == 'gfrc':\n",
    "        truths.loc[:, 'filename'] = [strin.replace('/', '_') for strin in truths.file_loc]\n",
    "        truths = windows_truth(truths)\n",
    "    else:\n",
    "        truths['filename'] = truths['file_loc']\n",
    "        truths['xmn'] = truths['xmin']\n",
    "        truths['xmx'] = truths['xmax']\n",
    "        truths['ymn'] = truths['ymin']\n",
    "        truths['ymx'] = truths['ymax']\n",
    "    if dataset == 'vedai':\n",
    "        truths['oc'] = truths['class_']\n",
    "    return truths"
   ]
  },
  {
   "cell_type": "code",
   "execution_count": null,
   "id": "treated-outreach",
   "metadata": {},
   "outputs": [],
   "source": [
    "inria_truth = pd.read_csv(truth_file_inria)\n",
    "inria_truth = process_truths(inria_truth, 'inria')\n",
    "gfrc_truth = pd.read_csv(truth_file_gfrc)\n",
    "gfrc_truth = process_truths(gfrc_truth, 'gfrc')\n",
    "vedai_truth = pd.read_csv(truth_file_vedai)\n",
    "vedai_truth = process_truths(vedai_truth, 'vedai')"
   ]
  },
  {
   "cell_type": "code",
   "execution_count": null,
   "id": "suitable-machine",
   "metadata": {},
   "outputs": [],
   "source": []
  },
  {
   "cell_type": "code",
   "execution_count": null,
   "id": "mysterious-cholesterol",
   "metadata": {},
   "outputs": [],
   "source": []
  },
  {
   "cell_type": "code",
   "execution_count": null,
   "id": "waiting-trunk",
   "metadata": {},
   "outputs": [],
   "source": []
  },
  {
   "cell_type": "code",
   "execution_count": null,
   "id": "skilled-travel",
   "metadata": {},
   "outputs": [],
   "source": []
  },
  {
   "cell_type": "code",
   "execution_count": null,
   "id": "published-samuel",
   "metadata": {},
   "outputs": [],
   "source": [
    "def match_at_threshold(windows_whole, truths, conf_threshold, image_dir, dataset, iou_threshold=0.25, nms_threshold=0.05):\n",
    "    # get image files\n",
    "    image_files_jpg = list(Path(image_dir).glob(\"*.jpg\"))\n",
    "    image_files_png = list(Path(image_dir).glob(\"*.png\"))\n",
    "    image_files = image_files_jpg + image_files_png\n",
    "    image_files = [img.name for img in image_files]\n",
    "    # filter windows\n",
    "    windows_whole_th = windows_whole[windows_whole.conf > conf_threshold]\n",
    "    results_all_ims = pd.DataFrame(columns=['xmn', 'xmx', 'ymn', 'ymx', 'conf', 'confmat', 'tru_box', 'filename'])\n",
    "    tpz = []\n",
    "    fpz = []\n",
    "    fnz = []\n",
    "    for fl in image_files:\n",
    "        truths_im = truths[truths.filename == fl]\n",
    "\n",
    "        if dataset == 'gfrc':\n",
    "            fl_png = fl\n",
    "        else:\n",
    "            fl_png = fl[:-4] + '.png'\n",
    "\n",
    "        windows_whole_im = windows_whole_th[windows_whole_th.filename == fl_png]\n",
    "\n",
    "        # calculate results\n",
    "        results_per_im = match_yolo_to_truths(windows_whole_im, truths_im, iou_threshold, nms_threshold)\n",
    "        results_per_im['filename'] = fl\n",
    "        tpz.append(np.sum(results_per_im.confmat == 'TP'))\n",
    "        fpz.append(np.sum(results_per_im.confmat == 'FP'))\n",
    "        fnz.append(np.sum(results_per_im.confmat == 'FN'))\n",
    "\n",
    "        results_all_ims = pd.concat((results_all_ims, results_per_im), axis=0, sort=False)\n",
    "    \n",
    "    return results_all_ims"
   ]
  },
  {
   "cell_type": "code",
   "execution_count": null,
   "id": "ancient-worry",
   "metadata": {},
   "outputs": [],
   "source": [
    "def get_image_stats(detections_df):\n",
    "    unique_images = np.unique(detections_df.filename)\n",
    "    tpz = []\n",
    "    fpz = []\n",
    "    fnz = []\n",
    "    for fl in unique_images:\n",
    "        results_per_im = detections_df[detections_df['filename'] == fl]\n",
    "        tpz.append(np.sum(results_per_im.confmat == 'TP'))\n",
    "        fpz.append(np.sum(results_per_im.confmat == 'FP'))\n",
    "        fnz.append(np.sum(results_per_im.confmat == 'FN'))\n",
    "\n",
    "    TPz = np.reshape(np.array(tpz), (len(tpz), 1))\n",
    "    FPz = np.reshape(np.array(fpz), (len(fpz), 1))\n",
    "    FNz = np.reshape(np.array(fnz), (len(fnz), 1))\n",
    "    UIz = np.reshape(unique_images, (len(unique_images), 1))\n",
    "    df_out = pd.DataFrame(np.hstack((UIz, TPz, FPz, FNz)), columns=['filename', 'TP', 'FP', 'FN'])\n",
    "    \n",
    "    return df_out"
   ]
  },
  {
   "cell_type": "code",
   "execution_count": null,
   "id": "aggressive-service",
   "metadata": {},
   "outputs": [],
   "source": [
    "inria_matched = match_at_threshold(inria_windows, inria_truth, inria_conf_threshold, valid_whole_image_dir_inria, 'inria')\n",
    "vedai_matched = match_at_threshold(vedai_windows, vedai_truth, vedai_conf_threshold, valid_whole_image_dir_vedai, 'vedai')\n",
    "gfrc_matched = match_at_threshold(gfrc_windows, gfrc_truth, gfrc_conf_threshold, valid_whole_image_dir_gfrc, 'gfrc')\n",
    "inria_im_metrics = get_image_stats(inria_matched)\n",
    "gfrc_im_metrics = get_image_stats(gfrc_matched)\n",
    "vedai_im_metrics = get_image_stats(vedai_matched)\n",
    "vedai_matched[vedai_matched.confmat == 'FP']"
   ]
  },
  {
   "cell_type": "code",
   "execution_count": null,
   "id": "local-moscow",
   "metadata": {},
   "outputs": [],
   "source": [
    "inria_tp_best = inria_im_metrics.iloc[np.argmax(np.array(inria_im_metrics.TP)), :]\n",
    "inria_fp_worst = inria_im_metrics.iloc[np.argmax(np.array(inria_im_metrics.FP)), :]\n",
    "inria_fn_worst = inria_im_metrics.iloc[np.argmax(np.array(inria_im_metrics.FN)), :]\n",
    "vedai_tp_best = vedai_im_metrics.iloc[np.argmax(np.array(vedai_im_metrics.TP)), :]\n",
    "vedai_fp_worst = vedai_im_metrics.iloc[np.argmax(np.array(vedai_im_metrics.FP)), :]\n",
    "vedai_fn_worst = vedai_im_metrics.iloc[np.argmax(np.array(vedai_im_metrics.FN)), :]\n",
    "gfrc_tp_best = gfrc_im_metrics.iloc[np.argmax(np.array(gfrc_im_metrics.TP)), :]\n",
    "gfrc_fp_worst = gfrc_im_metrics.iloc[np.argmax(np.array(gfrc_im_metrics.FP)), :]\n",
    "gfrc_fn_worst = gfrc_im_metrics.iloc[np.argmax(np.array(gfrc_im_metrics.FN)), :]"
   ]
  },
  {
   "cell_type": "code",
   "execution_count": null,
   "id": "greenhouse-steam",
   "metadata": {},
   "outputs": [],
   "source": [
    "inria_image_outdir = \"/home/cmf21/pytorch_save/output_for_draft/\" + 'inria_' + experiment + '_25_05/'\n",
    "vedai_image_outdir = \"/home/cmf21/pytorch_save/output_for_draft/\" + 'vedai_' + experiment + '_25_05/'\n",
    "gfrc_image_outdir = \"/home/cmf21/pytorch_save/output_for_draft/\" + 'gfrc_' + experiment + '_25_05/'"
   ]
  },
  {
   "cell_type": "code",
   "execution_count": null,
   "id": "spare-saskatchewan",
   "metadata": {},
   "outputs": [],
   "source": []
  },
  {
   "cell_type": "code",
   "execution_count": null,
   "id": "public-sharp",
   "metadata": {},
   "outputs": [],
   "source": [
    "from pathlib import Path\n",
    "from PIL import Image\n",
    "import cv2\n",
    "from window.utils.drawing import draw_results_on_image\n",
    "\n",
    "def draw_res(results_all_ims, valid_whole_image_dir, image_out_dir, dataset):\n",
    "    images_out = []\n",
    "    fnz_out = []\n",
    "    fpz_out = []\n",
    "\n",
    "    image_files_jpg = list(Path(valid_whole_image_dir).glob(\"*.jpg\"))\n",
    "    image_files_png = list(Path(valid_whole_image_dir).glob(\"*.png\"))\n",
    "    image_files = image_files_jpg + image_files_png\n",
    "    image_files = [img.name for img in image_files]\n",
    "\n",
    "    for fl in image_files:\n",
    "        # Per image\n",
    "        whole_im = cv2.imread(valid_whole_image_dir + fl)\n",
    "        whole_im = cv2.cvtColor(whole_im, cv2.COLOR_BGR2RGB)\n",
    "\n",
    "        if dataset == 'gfrc':\n",
    "            fl_png = fl\n",
    "        else:\n",
    "            fl_png = fl[:-4] + '.png'\n",
    "\n",
    "        # calculate results\n",
    "        results_per_im = results_all_ims[results_all_ims.filename == fl]\n",
    "\n",
    "        # create list of all false negatives\n",
    "        for rw in range(results_per_im.shape[0]):\n",
    "            row = results_per_im.iloc[rw, :]\n",
    "            if row.confmat == 'FN':\n",
    "                xmn = max(0, row.xmn - 50)\n",
    "                ymn = max(0, row.ymn - 50)\n",
    "                xmx = min(whole_im.shape[1], row.xmx + 50)\n",
    "                ymx = min(whole_im.shape[0], row.ymx + 50)\n",
    "                fn_window = whole_im[row.ymn:row.ymx, row.xmn:row.xmx]\n",
    "                fn_window = cv2.resize(fn_window, (fn_window.shape[1]*2, fn_window.shape[0]*2))\n",
    "                fnz_out.append(fn_window)\n",
    "            if row.confmat == 'FP':\n",
    "                xmn = max(0, row.xmn - 50)\n",
    "                ymn = max(0, row.ymn - 50)\n",
    "                xmx = min(whole_im.shape[1], row.xmx + 50)\n",
    "                ymx = min(whole_im.shape[0], row.ymx + 50)\n",
    "                fp_window = whole_im[row.ymn:row.ymx, row.xmn:row.xmx]\n",
    "                f_window = cv2.resize(fp_window, (fp_window.shape[1]*2, fp_window.shape[0]*2))\n",
    "                fpz_out.append(fp_window)\n",
    "\n",
    "        # draw results on image\n",
    "        image_out = draw_results_on_image(whole_im, results_per_im)\n",
    "        image_out = cv2.resize(image_out, (1840, 1228))\n",
    "        images_out.append(image_out)\n",
    "        image_out = cv2.cvtColor(image_out, cv2.COLOR_BGR2RGB)\n",
    "        cv2.imwrite(str(image_out_dir + fl), image_out)\n",
    "        \n",
    "    return fnz_out, fpz_out"
   ]
  },
  {
   "cell_type": "code",
   "execution_count": null,
   "id": "bridal-keeping",
   "metadata": {},
   "outputs": [],
   "source": [
    "valid_whole_image_dir_inria = \"/data/old_home_dir/ChrissyF/INRIA/Valid/whole_images/\"\n",
    "valid_whole_image_dir_gfrc = \"/data/old_home_dir/ChrissyF/GFRC/Valid/whole_images_all/\"\n",
    "valid_whole_image_dir_vedai = \"/data/old_home_dir/ChrissyF/VEDAI/Valid/whole_images/\"\n",
    "\n",
    "inria_fnz, inria_fpz = draw_res(inria_matched, valid_whole_image_dir_inria, inria_image_outdir, 'inria')\n",
    "vedai_fnz, vedai_fpz = draw_res(vedai_matched, valid_whole_image_dir_vedai, vedai_image_outdir, 'vedai')\n",
    "gfrc_fnz, gfrc_fpz = draw_res(gfrc_matched, valid_whole_image_dir_gfrc, gfrc_image_outdir, 'gfrc')"
   ]
  },
  {
   "cell_type": "code",
   "execution_count": null,
   "id": "theoretical-literacy",
   "metadata": {},
   "outputs": [],
   "source": [
    "inria_im_metrics[inria_im_metrics.TP > 4]"
   ]
  },
  {
   "cell_type": "code",
   "execution_count": null,
   "id": "solid-tender",
   "metadata": {},
   "outputs": [],
   "source": []
  },
  {
   "cell_type": "code",
   "execution_count": null,
   "id": "unexpected-tyler",
   "metadata": {},
   "outputs": [],
   "source": [
    "from PIL import Image\n",
    "# Image.open(inria_image_outdir + 'person_and_bike_181.png') # FP\n",
    "# Image.open(inria_image_outdir + 'crop001521.png') # FN\n",
    "Image.open(inria_image_outdir + 'person_236.png') # TP\n",
    "\n",
    "# Image.open(vedai_image_outdir + '00000127_co.png')\n",
    "# Image.open(vedai_image_outdir + '00000396_co.png')\n",
    "# Image.open(vedai_image_outdir + '00000181_co.png')"
   ]
  },
  {
   "cell_type": "code",
   "execution_count": null,
   "id": "original-weight",
   "metadata": {},
   "outputs": [],
   "source": []
  },
  {
   "cell_type": "code",
   "execution_count": null,
   "id": "divine-philip",
   "metadata": {},
   "outputs": [],
   "source": [
    "import random\n",
    "def create_mosaic(list_in, mosaic_tuple, image_size, grey=False):\n",
    "    rowz = mosaic_tuple[0]\n",
    "    colz = mosaic_tuple[1]\n",
    "    img_rw = image_size[0]\n",
    "    img_cl = image_size[1]\n",
    "    channels = 3\n",
    "    if grey:\n",
    "        channels = 1\n",
    "    combined_im = np.zeros((img_rw * rowz, img_cl * colz, channels), dtype=np.uint8)\n",
    "    sample_list = random.sample(list_in, rowz*colz)\n",
    "    for idx, im in enumerate(sample_list):\n",
    "        im_reshape = cv2.resize(im, (img_cl, img_rw))\n",
    "        col = idx % colz\n",
    "        row = idx // colz\n",
    "        x1 = col * img_cl\n",
    "        x2 = (col + 1) * img_cl\n",
    "        y1 = row * img_rw\n",
    "        y2 = (row + 1) * img_rw\n",
    "        combined_im[y1:y2, x1:x2, :] = im_reshape\n",
    "        \n",
    "    return combined_im"
   ]
  },
  {
   "cell_type": "code",
   "execution_count": null,
   "id": "prompt-mayor",
   "metadata": {},
   "outputs": [],
   "source": [
    "fnz_combined = create_mosaic(vedai_fnz, (4, 7), (60*2, 60*2))\n",
    "Image.fromarray(fnz_combined)"
   ]
  },
  {
   "cell_type": "code",
   "execution_count": null,
   "id": "orange-beauty",
   "metadata": {},
   "outputs": [],
   "source": [
    "fpz_combined = create_mosaic(vedai_fpz, (4, 7), (60*2, 60*2))\n",
    "Image.fromarray(fpz_combined)"
   ]
  },
  {
   "cell_type": "code",
   "execution_count": null,
   "id": "corresponding-conditions",
   "metadata": {},
   "outputs": [],
   "source": [
    "fnz_combined = create_mosaic(inria_fnz, (2, 7), (128*2, 64*2))\n",
    "Image.fromarray(fnz_combined)"
   ]
  },
  {
   "cell_type": "code",
   "execution_count": null,
   "id": "distant-internet",
   "metadata": {},
   "outputs": [],
   "source": [
    "fpz_combined = create_mosaic(inria_fpz, (2, 7), (128*2, 64*2))\n",
    "Image.fromarray(fpz_combined)"
   ]
  },
  {
   "cell_type": "code",
   "execution_count": null,
   "id": "institutional-gossip",
   "metadata": {},
   "outputs": [],
   "source": [
    "inria_windows"
   ]
  },
  {
   "cell_type": "code",
   "execution_count": null,
   "id": "major-conditions",
   "metadata": {},
   "outputs": [],
   "source": [
    "def nms_per_im(boxes_in, thresh, method='first'):\n",
    "    \n",
    "    boxes_in = boxes_in.sort_values(by='conf', ascending=False)\n",
    "\n",
    "    xmins = boxes_in.xmn\n",
    "    xmaxs = boxes_in.xmx\n",
    "    ymins = boxes_in.ymn\n",
    "    ymaxs = boxes_in.ymx\n",
    "    confs = boxes_in.conf\n",
    "\n",
    "    boxes_ot = pd.DataFrame(columns=['xmn', 'xmx', 'ymn', 'ymx', 'conf'])\n",
    "\n",
    "    xmins = np.array(xmins.tolist())\n",
    "    xmaxs = np.array(xmaxs.tolist())\n",
    "    ymins = np.array(ymins.tolist())\n",
    "    ymaxs = np.array(ymaxs.tolist())\n",
    "    confs = np.array(confs.tolist())\n",
    "\n",
    "    while len(xmins) > 0:\n",
    "\n",
    "        xmn = xmins[0]\n",
    "        xmns = np.array(xmins[1:])\n",
    "        xmx = xmaxs[0]\n",
    "        xmxs = np.array(xmaxs[1:])\n",
    "        ymn = ymins[0]\n",
    "        ymns = np.array(ymins[1:])\n",
    "        ymx = ymaxs[0]\n",
    "        ymxs = np.array(ymaxs[1:])\n",
    "        cnf = confs[0]\n",
    "        cnfs = np.array(confs[1:])\n",
    "\n",
    "        ol_wid = np.minimum(xmx, xmxs) - np.maximum(xmn, xmns)\n",
    "        ol_hei = np.minimum(ymx, ymxs) - np.maximum(ymn, ymns)\n",
    "\n",
    "        ol_x = np.maximum(0, ol_wid)\n",
    "        ol_y = np.maximum(0, ol_hei)\n",
    "\n",
    "        distx = np.subtract(xmxs, xmns)\n",
    "        disty = np.subtract(ymxs, ymns)\n",
    "        bxx = xmx - xmn\n",
    "        bxy = ymx - ymn\n",
    "\n",
    "        ol_area = np.multiply(ol_x, ol_y)\n",
    "        bx_area = bxx * bxy\n",
    "        bxs_area = np.multiply(distx, disty)\n",
    "\n",
    "        ious = np.divide(ol_area, np.subtract(np.add(bxs_area, bx_area), ol_area))\n",
    "        mask_bxs = np.greater(ious, thresh)\n",
    "\n",
    "        if np.sum(mask_bxs) > 0:\n",
    "            box_ot = pd.DataFrame(index=range(1), columns=['xmn', 'xmx', 'ymn', 'ymx', 'conf'])\n",
    "\n",
    "            xmns = xmns[mask_bxs]\n",
    "            xmxs = xmxs[mask_bxs]\n",
    "            ymns = ymns[mask_bxs]\n",
    "            ymxs = ymxs[mask_bxs]\n",
    "            cnfs = cnfs[mask_bxs]\n",
    "\n",
    "            if method == 'mean':\n",
    "                box_ot.loc[0, 'xmn'] = np.array(np.mean(xmns), dtype=int)\n",
    "                box_ot.loc[0, 'ymn'] = np.array(np.mean(ymns), dtype=int)\n",
    "                box_ot.loc[0, 'xmx'] = np.array(np.mean(xmxs), dtype=int)\n",
    "                box_ot.loc[0, 'ymx'] = np.array(np.mean(ymxs), dtype=int)\n",
    "                box_ot.loc[0, 'conf'] = np.mean(cnfs)\n",
    "            elif method == 'first':\n",
    "                box_ot.loc[0, 'xmn'] = xmns[0]\n",
    "                box_ot.loc[0, 'ymn'] = ymns[0]\n",
    "                box_ot.loc[0, 'xmx'] = xmxs[0]\n",
    "                box_ot.loc[0, 'ymx'] = ymxs[0]\n",
    "                box_ot.loc[0, 'conf'] = np.max(cnfs)\n",
    "            else:\n",
    "                box_ot.loc[0, 'xmn'] = np.min(xmns)\n",
    "                box_ot.loc[0, 'ymn'] = np.min(ymns)\n",
    "                box_ot.loc[0, 'xmx'] = np.max(xmxs)\n",
    "                box_ot.loc[0, 'ymx'] = np.max(ymxs)\n",
    "                box_ot.loc[0, 'conf'] = np.mean(cnfs)\n",
    "\n",
    "            mask_out = np.repeat(False, len(xmins))\n",
    "            mask_out[0] = True\n",
    "            mask_out[1:] = mask_bxs\n",
    "            mask_out = np.logical_not(mask_out)\n",
    "\n",
    "            xmins = xmins[mask_out]\n",
    "            xmaxs = xmaxs[mask_out]\n",
    "            ymins = ymins[mask_out]\n",
    "            ymaxs = ymaxs[mask_out]\n",
    "            confs = confs[mask_out]\n",
    "            \n",
    "        else:\n",
    "            box_ot = pd.DataFrame(index=range(1), columns=['xmn', 'xmx', 'ymn', 'ymx', 'conf'])\n",
    "\n",
    "            box_ot.loc[0, 'xmn'] = xmn\n",
    "            box_ot.loc[0, 'ymn'] = ymn\n",
    "            box_ot.loc[0, 'xmx'] = xmx\n",
    "            box_ot.loc[0, 'ymx'] = ymx\n",
    "            box_ot.loc[0, 'conf'] = cnf\n",
    "\n",
    "            mask_out = np.repeat(False, len(xmins))\n",
    "            mask_out[0] = True\n",
    "            mask_out = np.logical_not(mask_out)\n",
    "            \n",
    "            xmins = xmins[mask_out]\n",
    "            xmaxs = xmaxs[mask_out]\n",
    "            ymins = ymins[mask_out]\n",
    "            ymaxs = ymaxs[mask_out]\n",
    "            confs = confs[mask_out]\n",
    "            \n",
    "        #box_ot = box_ot.reset_index(drop=True)\n",
    "        boxes_ot = pd.concat((boxes_ot, box_ot), axis=0, sort=False)\n",
    "\n",
    "    boxes_ot.loc[:, 'filename'] = boxes_in.filename.iloc[0]\n",
    "\n",
    "    return boxes_ot"
   ]
  },
  {
   "cell_type": "code",
   "execution_count": null,
   "id": "adjacent-stocks",
   "metadata": {},
   "outputs": [],
   "source": [
    "def nms_for_yolo(windows_df, nms_thresh):\n",
    "    images = np.unique(windows_df.filename)\n",
    "    windows_all_ims = pd.DataFrame(columns=['xmn', 'xmx', 'ymn', 'ymx', 'conf', 'filename'])\n",
    "    for im in images:\n",
    "        windows_im = windows_df[windows_df.filename == im]\n",
    "        windows_im = nms_per_im(windows_im, nms_thresh)\n",
    "        windows_all_ims.append(windows_im)\n",
    "        windows_all_ims = pd.concat((windows_all_ims, windows_im), axis=0, ignore_index=True, sort=False)\n",
    "    return windows_all_ims\n",
    "    "
   ]
  },
  {
   "cell_type": "code",
   "execution_count": null,
   "id": "introductory-richardson",
   "metadata": {},
   "outputs": [],
   "source": [
    "conf_threshold = 0.25\n",
    "nms_threshold = 0.05\n",
    "\n",
    "inria_windows_th = inria_windows[inria_windows.conf >= conf_threshold]\n",
    "inria_windows_nms = nms_for_yolo(inria_windows_th, nms_threshold)\n",
    "\n",
    "inria_windows_nms"
   ]
  },
  {
   "cell_type": "code",
   "execution_count": null,
   "id": "unauthorized-phrase",
   "metadata": {},
   "outputs": [],
   "source": [
    "inria_im = inria_windows[inria_windows.filename == 'D2004-08-21_10h49m39s.jpg']\n",
    "inria_detections_im = nms_per_im(inria_im, 0.05)\n",
    "inria_detections_im"
   ]
  },
  {
   "cell_type": "code",
   "execution_count": null,
   "id": "indie-dress",
   "metadata": {},
   "outputs": [],
   "source": []
  },
  {
   "cell_type": "code",
   "execution_count": null,
   "id": "minor-identifier",
   "metadata": {},
   "outputs": [],
   "source": []
  },
  {
   "cell_type": "code",
   "execution_count": null,
   "id": "given-excuse",
   "metadata": {},
   "outputs": [],
   "source": []
  },
  {
   "cell_type": "code",
   "execution_count": null,
   "id": "bigger-bangkok",
   "metadata": {},
   "outputs": [],
   "source": []
  },
  {
   "cell_type": "code",
   "execution_count": null,
   "id": "complete-nutrition",
   "metadata": {},
   "outputs": [],
   "source": []
  },
  {
   "cell_type": "code",
   "execution_count": null,
   "id": "understood-oasis",
   "metadata": {},
   "outputs": [],
   "source": []
  },
  {
   "cell_type": "code",
   "execution_count": null,
   "id": "increasing-reply",
   "metadata": {},
   "outputs": [],
   "source": []
  }
 ],
 "metadata": {
  "kernelspec": {
   "display_name": "Python 3",
   "language": "python",
   "name": "python3"
  },
  "language_info": {
   "codemirror_mode": {
    "name": "ipython",
    "version": 3
   },
   "file_extension": ".py",
   "mimetype": "text/x-python",
   "name": "python",
   "nbconvert_exporter": "python",
   "pygments_lexer": "ipython3",
   "version": "3.6.9"
  }
 },
 "nbformat": 4,
 "nbformat_minor": 5
}
